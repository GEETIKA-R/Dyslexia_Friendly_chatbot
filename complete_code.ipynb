{
  "nbformat": 4,
  "nbformat_minor": 0,
  "metadata": {
    "colab": {
      "provenance": []
    },
    "kernelspec": {
      "name": "python3",
      "display_name": "Python 3"
    },
    "language_info": {
      "name": "python"
    }
  },
  "cells": [
    {
      "cell_type": "code",
      "execution_count": null,
      "metadata": {
        "id": "1AKnbrpT-2Pb"
      },
      "outputs": [],
      "source": [
        "import google.generativeai as genai\n",
        "from google.colab import userdata\n",
        "GOOGLE_API_KEY=userdata.get('GOOGLE_API_KEY')\n",
        "genai.configure(api_key=GOOGLE_API_KEY)\n"
      ]
    },
    {
      "cell_type": "code",
      "source": [
        "model = genai.GenerativeModel('gemini-pro')\n",
        "response = model.generate_content(\"Give me python code to sort a list\")\n",
        "print(response.text)"
      ],
      "metadata": {
        "colab": {
          "base_uri": "https://localhost:8080/",
          "height": 191
        },
        "id": "NcCul1_w_AH5",
        "outputId": "c28a539b-02ff-4782-af5a-7732e4a5d190"
      },
      "execution_count": null,
      "outputs": [
        {
          "output_type": "stream",
          "name": "stdout",
          "text": [
            "```python\n",
            "# unsorted list\n",
            "unsorted_list = [5, 2, 8, 3, 1]\n",
            "\n",
            "# sort the list in ascending order using the sorted() function\n",
            "sorted_list = sorted(unsorted_list)\n",
            "\n",
            "# print the sorted list\n",
            "print(sorted_list)\n",
            "```\n"
          ]
        }
      ]
    },
    {
      "cell_type": "code",
      "source": [
        "# prompt: model = genai.GenerativeModel('gemini-pro')\n",
        "# response = model.generate_content(\"Act as dyslexia expert, can you create the dyslexia friendly content of the follows paragraph, Harry Potter didn’t just escape to Hogwarts: He took us with him. \"print(response.text) alter this code for getting input from user\n",
        "\n",
        "import google.generativeai as genai\n",
        "from google.colab import userdata\n",
        "GOOGLE_API_KEY=userdata.get('GOOGLE_API_KEY')\n",
        "genai.configure(api_key=GOOGLE_API_KEY)\n",
        "\n",
        "model = genai.GenerativeModel('gemini-pro')\n",
        "\n",
        "input_text = input(\"Enter the text you want to make dyslexia friendly: \")\n",
        "\n",
        "response = model.generate_content(\"Act as dyslexia expert, can you create the dyslexia friendly content of the following paragraph: \" + input_text)\n",
        "print(response.text)\n"
      ],
      "metadata": {
        "colab": {
          "base_uri": "https://localhost:8080/",
          "height": 72
        },
        "id": "d-xnxvHe_RO2",
        "outputId": "7a733c46-68c2-47b8-fb65-a49ea02b0832"
      },
      "execution_count": null,
      "outputs": [
        {
          "output_type": "stream",
          "name": "stdout",
          "text": [
            "Enter the text you want to make dyslexia friendly: Harry Potter didn’t just escape to Hogwarts: He took us with him. As he delved, we followed, gliding along behind, our fingertips reaching for seven spines to crack open. Our tears, our laughter, our pursed, concentrated lips like we were preparing our own spells to cast. And it wasn’t just for him… we made friends, too, and worked to keep those\n",
            "Harry Potter didn't only run away to Hogwarts: He brought us with him. As he dived in, we came after, moving silently behind, our fingers reaching out to flick open seven books. Our feelings showed on our faces, our laughter, our twisted, focused lips as if we were making our own spells to cast. And it wasn't just for him... we made friends, too, and worked to keep those\n"
          ]
        }
      ]
    },
    {
      "cell_type": "code",
      "source": [
        "UNSPLASH_ACCESS_KEY = user.getdata(UNSPLASH_API_KEY)\n",
        "genai.configure(api_key=UNSPLASH_ACCESS_KEY)"
      ],
      "metadata": {
        "id": "el7hyv55Es1a"
      },
      "execution_count": null,
      "outputs": []
    },
    {
      "cell_type": "code",
      "source": [
        "def randomize_input(input_texts):\n",
        "    \"\"\"\n",
        "    Randomly selects an input text from a list.\n",
        "    \"\"\"\n",
        "    return random.choice(input_texts)\n",
        "\n",
        "\n",
        "\n",
        "\n"
      ],
      "metadata": {
        "id": "GMgJlrXmFh_L"
      },
      "execution_count": null,
      "outputs": []
    },
    {
      "cell_type": "code",
      "source": [
        "def generate_image(query):\n",
        "    \"\"\"\n",
        "    Generates an image URL based on a query using the Unsplash API.\n",
        "    \"\"\"\n",
        "    url = f\"https://api.unsplash.com/photos/random?query={query}&client_id={UNSPLASH_ACCESS_KEY}\"\n",
        "    response = requests.get(url)\n",
        "    if response.status_code == 200:\n",
        "        data = response.json()\n",
        "        return data['urls']['small']\n",
        "    else:\n",
        "        return \"Image not found.\""
      ],
      "metadata": {
        "id": "psQoopXMFwnK"
      },
      "execution_count": null,
      "outputs": []
    },
    {
      "cell_type": "code",
      "source": [
        "# Example input texts\n",
        "input_texts = [\n",
        "    \"This is an example text to be converted.\",\n",
        "    \"Another sample text for dyslexia-friendly conversion.\",\n",
        "    \"Yet another example input for the tool.\"\n",
        "]\n",
        "\n",
        "# Streamlit Interface\n",
        "st.title('Dyslexia-Friendly Content Generation Tool')\n",
        "\n",
        "random_input_text = randomize_input(input_texts)\n",
        "dyslexia_level = st.selectbox('Select Dyslexia Level:', [High, Medium, Low])\n",
        "\n",
        "if st.button('Generate Dyslexia-Friendly Text'):\n",
        "    output_text = dyslexia_friendly(random_input_text, dyslexia_level)\n",
        "    image_url = generate_image(random_input_text)\n",
        "\n",
        "    # Display Dyslexia-Friendly Text\n",
        "    st.markdown(f\"<div style='font-family: OpenDyslexic; font-size: 20px;'>{output_text}</div>\", unsafe_allow_html=True)\n",
        "\n",
        "    # Display Relevant Image\n",
        "    st.image(image_url, caption='Related Image')\n"
      ],
      "metadata": {
        "id": "jqMyijDeFxWx"
      },
      "execution_count": null,
      "outputs": []
    },
    {
      "cell_type": "code",
      "source": [
        "\n",
        "    # Save data to Google Sheets\n",
        "    auth.authenticate_user()\n",
        "    creds, _ = default()\n",
        "    gc = gspread.authorize(creds)\n",
        "\n",
        "    SPREADSHEET_ID = '1Pehdd-WPe6f1sh_Aa705zImS8rw53M9jVj72308OwWc'\n",
        "    SHEET_NAME = 'Datas'\n",
        "\n",
        "    def get_or_create_worksheet(spreadsheet, sheet_name):\n",
        "        \"\"\"\n",
        "        Get the worksheet by name or create it if it doesn't exist.\n",
        "        \"\"\"\n",
        "        try:\n",
        "            worksheet = spreadsheet.worksheet(sheet_name)\n",
        "        except gspread.WorksheetNotFound:\n",
        "            worksheet = spreadsheet.add_worksheet(title=sheet_name, rows=\"100\", cols=\"20\")\n",
        "        return worksheet\n",
        "\n",
        "    def save_to_sheet(data):\n",
        "        \"\"\"\n",
        "        Saves data to a Google Sheet.\n",
        "        \"\"\"\n",
        "        spreadsheet = gc.open_by_key(SPREADSHEET_ID)\n",
        "        sheet = get_or_create_worksheet(spreadsheet, SHEET_NAME)\n",
        "        next_row = len(sheet.get_all_values()) + 1\n",
        "        sheet.update(f'A{next_row}:C{next_row}', [data])\n",
        "\n",
        "    save_to_sheet([random_input_text, output_text, image_url])\n",
        "    st.success('Data saved to Google Sheet!')"
      ],
      "metadata": {
        "id": "ex0_nmZWF1ZX"
      },
      "execution_count": null,
      "outputs": []
    }
  ]
}